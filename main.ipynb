{
 "cells": [
  {
   "cell_type": "code",
   "execution_count": null,
   "metadata": {},
   "outputs": [],
   "source": [
    "!pip install openai\n",
    "!pip install python-dotenv\n",
    "!pip install google-generativeai\n",
    "!pip install gtts\n",
    "\n",
    "!pip install SpeechRecognition\n",
    "!pip install pydub"
   ]
  },
  {
   "cell_type": "code",
   "execution_count": 4,
   "metadata": {},
   "outputs": [
    {
     "name": "stdout",
     "output_type": "stream",
     "text": [
      "Running on local URL:  http://127.0.0.1:7861\n",
      "Running on public URL: https://a70f87af3ce0166cbf.gradio.live\n",
      "\n",
      "This share link expires in 72 hours. For free permanent hosting and GPU upgrades, run `gradio deploy` from Terminal to deploy to Spaces (https://huggingface.co/spaces)\n"
     ]
    },
    {
     "data": {
      "text/html": [
       "<div><iframe src=\"https://a70f87af3ce0166cbf.gradio.live\" width=\"100%\" height=\"500\" allow=\"autoplay; camera; microphone; clipboard-read; clipboard-write;\" frameborder=\"0\" allowfullscreen></iframe></div>"
      ],
      "text/plain": [
       "<IPython.core.display.HTML object>"
      ]
     },
     "metadata": {},
     "output_type": "display_data"
    },
    {
     "data": {
      "text/plain": []
     },
     "execution_count": 4,
     "metadata": {},
     "output_type": "execute_result"
    }
   ],
   "source": [
    "import gradio as gr\n",
    "from dotenv import load_dotenv\n",
    "from openai import OpenAI\n",
    "from gtts import gTTS\n",
    "import os\n",
    "import speech_recognition as sr\n",
    "\n",
    "# 환경 변수 로드\n",
    "load_dotenv()\n",
    "\n",
    "# OpenAI 클라이언트 초기화\n",
    "client = OpenAI()\n",
    "\n",
    "# 시스템 메시지\n",
    "system = \"\"\"\n",
    "당신은 '롯데리아 수원영통점' 직원이고, 당신의 업무는 '매장 소개', '주문 받기', '결제 방식 안내', '인사' 총 4가지가 있어\n",
    "먼저, '매장 소개'는 [매장 정보]를 토대로 손님들이 하는 질문들에 대답해주는 것\n",
    "'주문 받기'는 손님이 [메뉴 정보]의 <햄버거>, <사이드>, <음료> 카테고리별로 음식을 담으면 카테고리별로 총 합 가격을 기억해뒀다가 마지막에 손님이 장바구니에 담긴 총합 가격을 물어보면 알려주는 것\n",
    "'결제 방식 안내'는 [결제 방식]을 토대로 총 가격의 합을 어떠한 방식으로 결제할건지 질문하는 것\n",
    "'인사'는 손님의 주문과 결제가 끝나면 정중하게 인사하는 것\n",
    "----------------------------------\n",
    "[매장 정보]\n",
    "매장 이름 : 롯데리아 수원영통점\n",
    "주소 : 경기 수원시 영통구 청명남로 21\n",
    "영업 시간 : 매일 10:00 ~ 22:00\n",
    "전화번호 : 031-206-0066\n",
    "----------------------------------\n",
    "[메뉴 정보]\n",
    "<햄버거>\n",
    "오징어 얼라이브 버거 (5,500원)\n",
    "오징어 얼라이브 비프 버거 (5,700원)\n",
    "전주비빔 라이스 버거 (6,900원)\n",
    "...\n",
    "[결제 방식]\n",
    "신용/체크 카드 결제\n",
    "상품권(바코드) 결제\n",
    "현금 결제\n",
    "\"\"\"\n",
    "\n",
    "# 대화 기록을 저장할 전역 변수\n",
    "messages = []\n",
    "\n",
    "def process(prompt, history):\n",
    "    global messages\n",
    "    messages.append({\"role\": \"user\", \"content\": prompt})\n",
    "\n",
    "    completion = client.chat.completions.create(\n",
    "        model=\"gpt-3.5-turbo\",\n",
    "        messages=messages\n",
    "    )\n",
    "\n",
    "    # 시스템 메시지를 추가\n",
    "    messages.append({\"role\": \"system\", \"content\": system})\n",
    "\n",
    "    response_text = completion.choices[0].message.content\n",
    "    messages.append({\"role\": \"assistant\", \"content\": response_text})    \n",
    "    \n",
    "    # gTTS를 사용하여 음성 생성\n",
    "    tts = gTTS(response_text, lang='ko')\n",
    "    tts.save(\"response.mp3\")\n",
    "    \n",
    "    return \"BOT: \" + response_text, \"response.mp3\"  # 텍스트와 오디오 파일 경로 반환\n",
    "\n",
    "def transcribe_audio(audio_file):\n",
    "    recognizer = sr.Recognizer()\n",
    "    with sr.AudioFile(audio_file) as source:\n",
    "        audio = recognizer.record(source)\n",
    "    try:\n",
    "        return recognizer.recognize_google(audio, language=\"ko-KR\")\n",
    "    except sr.UnknownValueError:\n",
    "        return \"음성을 인식할 수 없습니다.\"\n",
    "    except sr.RequestError as e:\n",
    "        return f\"음성 인식 서비스에 접근할 수 없습니다; {e}\"\n",
    "\n",
    "with gr.Blocks() as demo:\n",
    "    audio_input = gr.Audio(type=\"filepath\", label=\"AI에게 음성 질문하기\")\n",
    "    audio_output = gr.Audio(label=\"AI의 음성 답변\")\n",
    "    text_input = gr.Textbox(label=\"텍스트로 질문하기\")\n",
    "    chatbot = gr.Chatbot(label=\"AI와의 대화\")\n",
    "\n",
    "    def respond(audio, text, history):\n",
    "        if audio:\n",
    "            text = transcribe_audio(audio)\n",
    "        bot_response, audio_file = process(text, history)\n",
    "        history.append((text, bot_response))\n",
    "        return history, gr.update(value=audio_file, autoplay=True), \"\"\n",
    "\n",
    "    audio_input.change(respond, [audio_input, text_input, chatbot], [chatbot, audio_output, text_input])\n",
    "    text_input.submit(respond, [audio_input, text_input, chatbot], [chatbot, audio_output, text_input])\n",
    "\n",
    "demo.launch(share=True)\n"
   ]
  }
 ],
 "metadata": {
  "kernelspec": {
   "display_name": "Python 3",
   "language": "python",
   "name": "python3"
  },
  "language_info": {
   "codemirror_mode": {
    "name": "ipython",
    "version": 3
   },
   "file_extension": ".py",
   "mimetype": "text/x-python",
   "name": "python",
   "nbconvert_exporter": "python",
   "pygments_lexer": "ipython3",
   "version": "3.9.6"
  }
 },
 "nbformat": 4,
 "nbformat_minor": 2
}
